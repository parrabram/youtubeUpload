{
  "nbformat": 4,
  "nbformat_minor": 0,
  "metadata": {
    "colab": {
      "name": "youtubeUpload.ipynb",
      "provenance": []
    },
    "kernelspec": {
      "name": "python3",
      "display_name": "Python 3"
    }
  },
  "cells": [
    {
      "cell_type": "code",
      "metadata": {
        "colab": {
          "base_uri": "https://localhost:8080/"
        },
        "cellView": "form",
        "id": "L-j9yyRCqwlr",
        "outputId": "3cbb1308-a149-4084-ed0b-f9c612121ac1"
      },
      "source": [
        "#@title **wGet**\r\n",
        "\r\n",
        "Link  = \"https://torrenstream.herokuapp.com/stream/magnet%3A%3Fxt%3Durn%3Abtih%3AACB7FB0BDE67820BF34C45B9680436ABE8D04C3C%26dn%3DGreenland.2020.lati.mp4%26tr%3Dudp%253a%252f%252ftracker.leechers-paradise.org%253a6969%252fannounce%26tr%3Dudp%253a%252f%252ftracker.coppersurfer.tk%253a6969%252fannounce%26tr%3Dhttp%253a%252f%252fshare.camoe.cn%253a8080%252fannounce%26tr%3Dudp%253a%252f%252ftracker.pirateparty.gr%253a6969?file=Greenland.2020.lati.mp4\" #@param {type:\"string\"}\r\n",
        "\r\n",
        "! wget $Link"
      ],
      "execution_count": null,
      "outputs": [
        {
          "output_type": "stream",
          "text": [
            "The name is too long, 314 chars total.\n",
            "Trying to shorten...\n",
            "New name is magnet:?xt=urn:btih:ACB7FB0BDE67820BF34C45B9680436ABE8D04C3C&dn=Greenland.2020.lati.mp4&tr=udp:%2F%2Ftracker.leechers-paradise.org:6969%2Fannounce&tr=udp:%2F%2Ftracker.coppersurfer.tk:6969%2Fannounce&tr=http:%2F%2Fshare.camoe.cn:8080%2F.\n",
            "--2021-02-26 04:53:41--  https://torrenstream.herokuapp.com/stream/magnet%3A%3Fxt%3Durn%3Abtih%3AACB7FB0BDE67820BF34C45B9680436ABE8D04C3C%26dn%3DGreenland.2020.lati.mp4%26tr%3Dudp%253a%252f%252ftracker.leechers-paradise.org%253a6969%252fannounce%26tr%3Dudp%253a%252f%252ftracker.coppersurfer.tk%253a6969%252fannounce%26tr%3Dhttp%253a%252f%252fshare.camoe.cn%253a8080%252fannounce%26tr%3Dudp%253a%252f%252ftracker.pirateparty.gr%253a6969?file=Greenland.2020.lati.mp4\n",
            "Resolving torrenstream.herokuapp.com (torrenstream.herokuapp.com)... 34.230.186.67, 54.236.83.95, 52.1.4.45, ...\n",
            "Connecting to torrenstream.herokuapp.com (torrenstream.herokuapp.com)|34.230.186.67|:443... connected.\n",
            "HTTP request sent, awaiting response... 200 OK\n",
            "Length: 2292521180 (2.1G) [video/mp4]\n",
            "Saving to: ‘magnet:?xt=urn:btih:ACB7FB0BDE67820BF34C45B9680436ABE8D04C3C&dn=Greenland.2020.lati.mp4&tr=udp:%2F%2Ftracker.leechers-paradise.org:6969%2Fannounce&tr=udp:%2F%2Ftracker.coppersurfer.tk:6969%2Fannounce&tr=http:%2F%2Fshare.camoe.cn:8080%2F’\n",
            "\n",
            "=udp:%2F%2Ftracker.  31%[=====>              ] 695.52M  25.7MB/s    eta 2m 58s "
          ],
          "name": "stdout"
        }
      ]
    },
    {
      "cell_type": "code",
      "metadata": {
        "id": "lmzXOwXSXiPz",
        "cellView": "form"
      },
      "source": [
        "#@title **youtubeUpload**\r\n",
        "\r\n",
        "import os\r\n",
        "\r\n",
        "if os.path.isdir(\"/content/youtubeUpload\"):\r\n",
        "    print(\"ready!\")\r\n",
        "else:\r\n",
        "    ! git clone https://github.com/parrabram/youtubeUpload.git && pip install --upgrade google-api-python-client oauth2client progressbar2\r\n",
        "\r\n",
        "Options  = \"\" #@param {type:\"string\"}\r\n",
        "\r\n",
        "! python /content/youtubeUpload/bin/youtube-upload --client-secrets=client_secret.json $Options\r\n"
      ],
      "execution_count": null,
      "outputs": []
    }
  ]
}